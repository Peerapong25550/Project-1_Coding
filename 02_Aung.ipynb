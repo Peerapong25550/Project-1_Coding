{
  "nbformat": 4,
  "nbformat_minor": 0,
  "metadata": {
    "colab": {
      "provenance": [],
      "authorship_tag": "ABX9TyNhfWf488Hx5fA2Vvrihj9J",
      "include_colab_link": true
    },
    "kernelspec": {
      "name": "python3",
      "display_name": "Python 3"
    },
    "language_info": {
      "name": "python"
    }
  },
  "cells": [
    {
      "cell_type": "markdown",
      "metadata": {
        "id": "view-in-github",
        "colab_type": "text"
      },
      "source": [
        "<a href=\"https://colab.research.google.com/github/Peerapong25550/Project-1_Coding/blob/main/02_Aung.ipynb\" target=\"_parent\"><img src=\"https://colab.research.google.com/assets/colab-badge.svg\" alt=\"Open In Colab\"/></a>"
      ]
    },
    {
      "cell_type": "markdown",
      "source": [
        "#02 พีรพงศ์ อุ่นเรือนงาม\n",
        "Peerapong Unrueanngam"
      ],
      "metadata": {
        "id": "TL1TmxYfcUIC"
      }
    },
    {
      "cell_type": "markdown",
      "source": [
        "20 พฤษภาคม 2567\n",
        "\n",
        "\n",
        "*   คำสั่ง print() ภายในวงเล็บ คือ สิ่งที่ต้องการให้คอมพิวเตอร์แสดงผลออกมา\n",
        "*   ชนิดของข้อมูลแบ่งออกเป็นหลักๆ 2 ประเภท ได้แก่ String และ Numberic\n",
        "> โดย Numberic แบ่งออกเป็น จำนวนเต็ม(Integer) และทศนิยม(Float)\n",
        "\n",
        "\n",
        "\n"
      ],
      "metadata": {
        "id": "4bZaDPg9_Nsw"
      }
    },
    {
      "cell_type": "code",
      "source": [
        "print(\"Hello, I'm Aung. Nice to meet you.\")"
      ],
      "metadata": {
        "id": "RZQsAOeV_eGQ"
      },
      "execution_count": null,
      "outputs": []
    },
    {
      "cell_type": "code",
      "source": [
        "print(\"Hello World\")"
      ],
      "metadata": {
        "id": "OkMYgb0MFvl2"
      },
      "execution_count": null,
      "outputs": []
    },
    {
      "cell_type": "markdown",
      "source": [
        "29/5/67\n",
        "\n",
        "\n",
        "*   สามารถใช้คำสั่ง type() และใส่ตัวแปรในวงเล็บ เพื่อหาชนิดของตัวแปร\n",
        "*   การตั้งชื่อตัวแปร ควรมีความหมายกับข้อมูลที่ต้องการเก็บ\n",
        "*   การตั้งชื่อตัวแปรจำเป็นต้องตั้งด้วยภาษาอังกฤษเท่านั้น ห้ามตั้งชื่อ โดยใช้ตัวเลขนำเป็นตัวแรก การตั้งชื่อตัวแปรห้ามเว้นวรรคไว้\n",
        "*   ถ้าใช้ตัวแปรพิมพ์ใหญ่และพิมพ์เล็ก จะไม่ใช่ตัวแปรเดียวกัน\n"
      ],
      "metadata": {
        "id": "LhijtGBQZLUh"
      }
    },
    {
      "cell_type": "code",
      "source": [
        "a = 2\n",
        "b = 1.5\n",
        "first_name = \"Aung\"\n",
        "\n",
        "type(first_name)\n",
        "print(\"ตัวแปรที่ฉันคิด คือ first_name\")"
      ],
      "metadata": {
        "id": "7r73riYsY2aM"
      },
      "execution_count": null,
      "outputs": []
    },
    {
      "cell_type": "code",
      "source": [
        "numeric1 = 5\n",
        "\n",
        "print(numeric1)\n",
        "type(numeric1)"
      ],
      "metadata": {
        "id": "PB1AbjhkkESZ"
      },
      "execution_count": null,
      "outputs": []
    },
    {
      "cell_type": "markdown",
      "source": [
        "5/6/67\n",
        "\n",
        "*   ถ้าต้องการแสดงผลข้อมูลเพียงตัวเดียว จากอักษรทั้งคำสามารถใช้ [ ] แล้วใส่จำนวนเต็มโดยตัวอักษรตัวแรก เริ่มที่เลข 0 และเรียงไปเรื่อยๆ หรือถ้าหากต้องการแสดงผลตัวสุดท้ายสามารถใส่ค่า -1 แทนได้\n",
        "\n",
        "Input : Python\n",
        "\n",
        "Process : เลือกข้อมูลตัวแรก จากข้อความที่รับเข้า\n",
        "\n",
        "Output : P"
      ],
      "metadata": {
        "id": "rVY6T2xuWbMu"
      }
    },
    {
      "cell_type": "code",
      "source": [
        "string1 = \"Python\"\n",
        "print(string1[0])"
      ],
      "metadata": {
        "id": "XvHq6vBaYY61"
      },
      "execution_count": null,
      "outputs": []
    },
    {
      "cell_type": "markdown",
      "source": [
        "26/6/67\n",
        "\n",
        "\n",
        "*   คำสั่ง input() เป็นการใช้คำสั่งนำเข้าข้อมูล เพื่อนำไปใช้ในโปรแกรม\n",
        "*   การใช้คำสั่ง input() โดยภายในวงเล็บ สามารถใส่ข้อตวามภายใน เพื่อเป็นคำถามได้\n",
        "\n"
      ],
      "metadata": {
        "id": "XRV_jJLkgkry"
      }
    },
    {
      "cell_type": "code",
      "source": [
        "name = input(\"กรุณากรอกชื่อ: \")\n",
        "print(\"ยินดีที่ได้รู้จักนะ เราชื่อ\", name)"
      ],
      "metadata": {
        "id": "3wvvBirEt5QX"
      },
      "execution_count": null,
      "outputs": []
    },
    {
      "cell_type": "code",
      "source": [
        "side = int(input(\"กรุณากรอกความยาวของสี่เหลี่ยมจัตุรัส(ซม.): \"))\n",
        "area = side * side\n",
        "print(\"พื้นที่ของรูปสี่เหลี่ยมนี้ คือ\", area, \"ตารางเซนติเมตร\")"
      ],
      "metadata": {
        "id": "6maUvqp2y0xz"
      },
      "execution_count": null,
      "outputs": []
    },
    {
      "cell_type": "markdown",
      "source": [
        "1/7/2567"
      ],
      "metadata": {
        "id": "k0-b4iM6O_T4"
      }
    },
    {
      "cell_type": "code",
      "source": [
        "length = float(input(\"กรุณากรอกความยาว(ซม.): \"))\n",
        "width = float(input(\"กรุณากรอกความกว้าง(ซม.): \"))\n",
        "\n",
        "area = length * width\n",
        "print(\"พื้นที่ของสี่เหลี่ยมรูปนี้ คือ\" ,area ,\"ตารางเซนติเมตร\")"
      ],
      "metadata": {
        "id": "eTkC27jkPE4g"
      },
      "execution_count": null,
      "outputs": []
    },
    {
      "cell_type": "code",
      "source": [
        "s = float(input(\"กรอกระยะทาง(m): \")) #ระยะทาง\n",
        "t = float(input(\"กรอกระยะเวลา(s): \")) #เวลา\n",
        "\n",
        "v = s / t #ความเร็ว\n",
        "print(\"วัตถุนี้มีความเร็วเฉลี่ย\", v, \"m/s\")"
      ],
      "metadata": {
        "id": "2GNzUvH7Rt-h"
      },
      "execution_count": null,
      "outputs": []
    },
    {
      "cell_type": "code",
      "source": [
        "#1\n",
        "weight = int(input(\"กรอกน้ำหนัก(กิโลกรัม): \"))\n",
        "height = float(input(\"กรอกน้ำหนัก(เมตร): \"))\n",
        "\n",
        "BMI = weight / (height ** 2)\n",
        "print(\"ค่าดัชนีมวลกาย : %.2f\" % BMI)"
      ],
      "metadata": {
        "id": "I8GhD_m8XdUz"
      },
      "execution_count": null,
      "outputs": []
    },
    {
      "cell_type": "code",
      "source": [
        "#1.1\n",
        "print(\"\"\"โปรแกรมคำนวณค่าดัชนีมวลกาย\n",
        "จัดทำโดย นายพีรพงศ์ อุ่นเรือนงาม\"\"\")\n",
        "\n",
        "weight = int(input(\"กรอกน้ำหนัก(กิโลกรัม): \"))\n",
        "height = float(input(\"กรอกน้ำหนัก(เมตร): \"))\n",
        "\n",
        "BMI = weight / (height ** 2)\n",
        "\n",
        "print(\"ค่าดัชนีมวลกาย : %.2f\" % BMI)"
      ],
      "metadata": {
        "id": "00V422lvaaJr"
      },
      "execution_count": null,
      "outputs": []
    },
    {
      "cell_type": "code",
      "source": [
        "#1.2\n",
        "print(\"\"\"โปรแกรมคำนวณค่าดัชนีมวลกาย\n",
        "จัดทำโดย นายพีรพงศ์ อุ่นเรือนงาม\\n\"\"\")\n",
        "name = input(\"กรอกชื่อของคุณ: \")\n",
        "print(\"\\n---ยินดีต้อนรับคุณ\" + name + \"---\")\n",
        "\n",
        "weight = int(input(\"กรอกน้ำหนัก(กิโลกรัม): \"))\n",
        "height = float(input(\"กรอกน้ำหนัก(เมตร): \"))\n",
        "\n",
        "BMI = weight / (height ** 2)\n",
        "\n",
        "print(\"\\nค่าดัชนีมวลกาย : %.2f\" % BMI)"
      ],
      "metadata": {
        "id": "lBa4aWa7cBki"
      },
      "execution_count": null,
      "outputs": []
    },
    {
      "cell_type": "code",
      "source": [
        "#2\n",
        "print(\"\"\"โปรแกรมคำนวณค่าดัชนีมวลกาย\n",
        "จัดทำโดย นายพีรพงศ์ อุ่นเรือนงาม\\n\"\"\")\n",
        "name = input(\"กรอกชื่อของคุณ: \")\n",
        "print(\"\\n---ยินดีต้อนรับคุณ\" + name + \"---\")\n",
        "\n",
        "weight = int(input(\"กรอกน้ำหนัก(กิโลกรัม): \"))\n",
        "height = float(input(\"กรอกน้ำหนัก(เมตร): \"))\n",
        "\n",
        "BMI = weight / (height ** 2)\n",
        "\n",
        "print(\"\\nค่าดัชนีมวลกาย : %.2f\" % BMI)"
      ],
      "metadata": {
        "id": "V2AEXbFDhBQd"
      },
      "execution_count": null,
      "outputs": []
    }
  ]
}